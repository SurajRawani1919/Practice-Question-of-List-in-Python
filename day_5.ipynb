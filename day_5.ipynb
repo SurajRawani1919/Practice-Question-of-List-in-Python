{
  "nbformat": 4,
  "nbformat_minor": 0,
  "metadata": {
    "colab": {
      "provenance": []
    },
    "kernelspec": {
      "name": "python3",
      "display_name": "Python 3"
    },
    "language_info": {
      "name": "python"
    }
  },
  "cells": [
    {
      "cell_type": "code",
      "execution_count": 1,
      "metadata": {
        "id": "au-ERDTyxRnR"
      },
      "outputs": [],
      "source": [
        "msg=\"hello\"\n",
        "msg[1]"
      ]
    },
    {
      "cell_type": "code",
      "source": [
        "# [starting,stopping,step=1]\n",
        "msg=\"jaipur\"\n",
        "msg[1:5]"
      ],
      "metadata": {
        "colab": {
          "base_uri": "https://localhost:8080/",
          "height": 36
        },
        "id": "jqwmJUY0yoke",
        "outputId": "c9535f55-ef8c-44ed-bce8-c7d0e8742551"
      },
      "execution_count": 2,
      "outputs": [
        {
          "output_type": "execute_result",
          "data": {
            "text/plain": [
              "'aipu'"
            ],
            "application/vnd.google.colaboratory.intrinsic+json": {
              "type": "string"
            }
          },
          "metadata": {},
          "execution_count": 2
        }
      ]
    },
    {
      "cell_type": "code",
      "source": [
        "print(msg[0:3:1])\n",
        "print(msg[0:3:2])\n",
        "print(msg[1:6:2])\n",
        "print(msg[2:7:3])"
      ],
      "metadata": {
        "colab": {
          "base_uri": "https://localhost:8080/"
        },
        "id": "nl7MV1dEyy6y",
        "outputId": "5b956cbe-7d16-469c-f78e-0c9840111182"
      },
      "execution_count": 11,
      "outputs": [
        {
          "output_type": "stream",
          "name": "stdout",
          "text": [
            "jai\n",
            "ji\n",
            "apr\n",
            "ir\n"
          ]
        }
      ]
    },
    {
      "cell_type": "code",
      "source": [
        "msg=\"hey tushar\"\n",
        "msg[6:1:-1]"
      ],
      "metadata": {
        "colab": {
          "base_uri": "https://localhost:8080/",
          "height": 36
        },
        "id": "V9ytRCguy3HD",
        "outputId": "ce1d387c-1364-4fff-a027-f2b4611766da"
      },
      "execution_count": 12,
      "outputs": [
        {
          "output_type": "execute_result",
          "data": {
            "text/plain": [
              "'sut y'"
            ],
            "application/vnd.google.colaboratory.intrinsic+json": {
              "type": "string"
            }
          },
          "metadata": {},
          "execution_count": 12
        }
      ]
    },
    {
      "cell_type": "code",
      "source": [
        "msg[6:4:-2]"
      ],
      "metadata": {
        "colab": {
          "base_uri": "https://localhost:8080/",
          "height": 36
        },
        "id": "Rv-_Myxgz9IL",
        "outputId": "f4aa6726-9c5a-4717-e121-a058075afbfa"
      },
      "execution_count": 13,
      "outputs": [
        {
          "output_type": "execute_result",
          "data": {
            "text/plain": [
              "'s'"
            ],
            "application/vnd.google.colaboratory.intrinsic+json": {
              "type": "string"
            }
          },
          "metadata": {},
          "execution_count": 13
        }
      ]
    },
    {
      "cell_type": "code",
      "source": [
        "msg[-1:-3:-1]"
      ],
      "metadata": {
        "colab": {
          "base_uri": "https://localhost:8080/",
          "height": 36
        },
        "id": "Q6sKJAx01Z0P",
        "outputId": "5f2db179-8d4e-4e89-dd2f-d7ae121d31b1"
      },
      "execution_count": 15,
      "outputs": [
        {
          "output_type": "execute_result",
          "data": {
            "text/plain": [
              "'ra'"
            ],
            "application/vnd.google.colaboratory.intrinsic+json": {
              "type": "string"
            }
          },
          "metadata": {},
          "execution_count": 15
        }
      ]
    },
    {
      "cell_type": "code",
      "source": [
        "msg[-4:-2]"
      ],
      "metadata": {
        "colab": {
          "base_uri": "https://localhost:8080/",
          "height": 36
        },
        "id": "Lv39BTeQ1vg7",
        "outputId": "a14705a1-1205-4c53-ca53-a0a9343f1344"
      },
      "execution_count": 17,
      "outputs": [
        {
          "output_type": "execute_result",
          "data": {
            "text/plain": [
              "'sh'"
            ],
            "application/vnd.google.colaboratory.intrinsic+json": {
              "type": "string"
            }
          },
          "metadata": {},
          "execution_count": 17
        }
      ]
    },
    {
      "cell_type": "code",
      "source": [
        "# list datatype\n",
        "# collection of values string or number etc\n",
        "# mutuable datatype in python\n",
        "# orderd => sequence of element\n",
        "\n",
        "mylist=[10,2,3,\"abc\"]\n",
        "type(mylist)"
      ],
      "metadata": {
        "colab": {
          "base_uri": "https://localhost:8080/"
        },
        "id": "Ni2UyV682RFV",
        "outputId": "0b16eb17-0b0d-4af1-ddf0-6f6a9f63783a"
      },
      "execution_count": 19,
      "outputs": [
        {
          "output_type": "execute_result",
          "data": {
            "text/plain": [
              "list"
            ]
          },
          "metadata": {},
          "execution_count": 19
        }
      ]
    },
    {
      "cell_type": "code",
      "source": [
        "mylist[2:5]"
      ],
      "metadata": {
        "colab": {
          "base_uri": "https://localhost:8080/"
        },
        "id": "rDelF1y24A4r",
        "outputId": "6a4d6528-cc73-44e9-d96e-6ff62a12d2f9"
      },
      "execution_count": 20,
      "outputs": [
        {
          "output_type": "execute_result",
          "data": {
            "text/plain": [
              "[3, 'abc']"
            ]
          },
          "metadata": {},
          "execution_count": 20
        }
      ]
    },
    {
      "cell_type": "code",
      "source": [
        "mylist[2]"
      ],
      "metadata": {
        "colab": {
          "base_uri": "https://localhost:8080/"
        },
        "id": "hzpbPJik4KVz",
        "outputId": "cf3e68dc-c2af-4d9d-9b2f-2ff6ba8cf5b4"
      },
      "execution_count": 22,
      "outputs": [
        {
          "output_type": "execute_result",
          "data": {
            "text/plain": [
              "3"
            ]
          },
          "metadata": {},
          "execution_count": 22
        }
      ]
    },
    {
      "cell_type": "code",
      "source": [
        "mylist[-1]"
      ],
      "metadata": {
        "colab": {
          "base_uri": "https://localhost:8080/",
          "height": 36
        },
        "id": "6j8VK-bE49K5",
        "outputId": "b7cc6fa9-0676-4252-f02b-362391ccccb0"
      },
      "execution_count": 23,
      "outputs": [
        {
          "output_type": "execute_result",
          "data": {
            "text/plain": [
              "'abc'"
            ],
            "application/vnd.google.colaboratory.intrinsic+json": {
              "type": "string"
            }
          },
          "metadata": {},
          "execution_count": 23
        }
      ]
    },
    {
      "cell_type": "code",
      "source": [
        "mylist[0]=500\n",
        "print(mylist)"
      ],
      "metadata": {
        "colab": {
          "base_uri": "https://localhost:8080/"
        },
        "id": "V6wPpVUw5AF6",
        "outputId": "a5fa9aa9-7d06-4d05-c8a7-59cd32264ba7"
      },
      "execution_count": 24,
      "outputs": [
        {
          "output_type": "stream",
          "name": "stdout",
          "text": [
            "[500, 2, 3, 'abc']\n"
          ]
        }
      ]
    },
    {
      "cell_type": "code",
      "source": [
        "mylist[0:2]=[\"A\",\"B\"]\n",
        "print(mylist)"
      ],
      "metadata": {
        "colab": {
          "base_uri": "https://localhost:8080/"
        },
        "id": "HlgtgTjQ5KW_",
        "outputId": "1bbf6631-fbc7-4d48-e11c-1d5d40db0996"
      },
      "execution_count": 26,
      "outputs": [
        {
          "output_type": "stream",
          "name": "stdout",
          "text": [
            "['A', 'B', 3, 'abc']\n"
          ]
        }
      ]
    },
    {
      "cell_type": "code",
      "source": [
        "#append\n",
        "mylist.append(19)\n",
        "mylist"
      ],
      "metadata": {
        "colab": {
          "base_uri": "https://localhost:8080/"
        },
        "id": "Z_E-UBVl5bmj",
        "outputId": "8a8d0af6-4037-4403-a1ab-9851f8446849"
      },
      "execution_count": 27,
      "outputs": [
        {
          "output_type": "execute_result",
          "data": {
            "text/plain": [
              "['A', 'B', 3, 'abc', 19]"
            ]
          },
          "metadata": {},
          "execution_count": 27
        }
      ]
    },
    {
      "cell_type": "code",
      "source": [
        "#extend\n",
        "# iterable =>\n",
        "mylist.extend([99,88,100])\n",
        "print(mylist)"
      ],
      "metadata": {
        "colab": {
          "base_uri": "https://localhost:8080/"
        },
        "id": "7UQQpO8F5qFI",
        "outputId": "bc28c025-5307-4c14-e992-cb7b66fbc226"
      },
      "execution_count": 28,
      "outputs": [
        {
          "output_type": "stream",
          "name": "stdout",
          "text": [
            "['A', 'B', 3, 'abc', 19, 99, 88, 100]\n"
          ]
        }
      ]
    },
    {
      "cell_type": "code",
      "source": [
        "#pop\n",
        "x=mylist.pop()\n",
        "print(x)"
      ],
      "metadata": {
        "colab": {
          "base_uri": "https://localhost:8080/"
        },
        "id": "BGHHtAFg6REG",
        "outputId": "c95d5781-9248-4719-be55-7d075d188cc9"
      },
      "execution_count": 35,
      "outputs": [
        {
          "output_type": "stream",
          "name": "stdout",
          "text": [
            "19\n"
          ]
        }
      ]
    },
    {
      "cell_type": "code",
      "source": [
        "mylist.append(19)\n",
        "print(mylist)"
      ],
      "metadata": {
        "colab": {
          "base_uri": "https://localhost:8080/"
        },
        "id": "CBkBxB0e6z7R",
        "outputId": "234bba34-a2ed-4667-929c-a44be4a2d2aa"
      },
      "execution_count": 37,
      "outputs": [
        {
          "output_type": "stream",
          "name": "stdout",
          "text": [
            "['A', 'B', 3, 'abc', 19]\n"
          ]
        }
      ]
    },
    {
      "cell_type": "code",
      "source": [
        "# loop on list\n",
        "# directly\n",
        "for i in [10,20,4,5,\"hey\"]:\n",
        "  print(i)"
      ],
      "metadata": {
        "colab": {
          "base_uri": "https://localhost:8080/"
        },
        "id": "rPAcCOO262yN",
        "outputId": "ff16c977-4483-4dd8-b0fc-4f3556788ce7"
      },
      "execution_count": 39,
      "outputs": [
        {
          "output_type": "stream",
          "name": "stdout",
          "text": [
            "10\n",
            "20\n",
            "4\n",
            "5\n",
            "hey\n"
          ]
        }
      ]
    },
    {
      "cell_type": "code",
      "source": [
        "mylist=[10,20,4,5,\"hey\",88]\n",
        "len(mylist)\n"
      ],
      "metadata": {
        "colab": {
          "base_uri": "https://localhost:8080/"
        },
        "id": "eczljyXZ7RIl",
        "outputId": "065fcfb5-461d-4bea-a0c8-79f05d19a77d"
      },
      "execution_count": 40,
      "outputs": [
        {
          "output_type": "execute_result",
          "data": {
            "text/plain": [
              "6"
            ]
          },
          "metadata": {},
          "execution_count": 40
        }
      ]
    },
    {
      "cell_type": "code",
      "source": [
        "mylist=[10,20,4,5,\"hey\",88]\n",
        "mylist[4]"
      ],
      "metadata": {
        "colab": {
          "base_uri": "https://localhost:8080/",
          "height": 36
        },
        "id": "QnjglZAK7gUx",
        "outputId": "71e6f9d1-fc3e-4886-e48e-1c7357423823"
      },
      "execution_count": 41,
      "outputs": [
        {
          "output_type": "execute_result",
          "data": {
            "text/plain": [
              "'hey'"
            ],
            "application/vnd.google.colaboratory.intrinsic+json": {
              "type": "string"
            }
          },
          "metadata": {},
          "execution_count": 41
        }
      ]
    },
    {
      "cell_type": "code",
      "source": [
        "for index in range(0,6):\n",
        "  print(index,mylist[index])"
      ],
      "metadata": {
        "colab": {
          "base_uri": "https://localhost:8080/"
        },
        "id": "OsD6SOVT7nJr",
        "outputId": "874985e6-c2da-471a-ee98-a12d1f7ebf68"
      },
      "execution_count": 44,
      "outputs": [
        {
          "output_type": "stream",
          "name": "stdout",
          "text": [
            "0 10\n",
            "1 20\n",
            "2 4\n",
            "3 5\n",
            "4 hey\n",
            "5 88\n"
          ]
        }
      ]
    },
    {
      "cell_type": "code",
      "source": [
        "mylist=[10,20,4,5,21,88]\n",
        "for i in mylist:\n",
        "  if i%2==0:\n",
        "    print(\"Even\",i)\n",
        ""
      ],
      "metadata": {
        "colab": {
          "base_uri": "https://localhost:8080/"
        },
        "id": "KaVojt9y70Kf",
        "outputId": "a7e1f71b-2805-46a4-8a13-36026c2a2d5e"
      },
      "execution_count": 47,
      "outputs": [
        {
          "output_type": "stream",
          "name": "stdout",
          "text": [
            "Even 10\n",
            "Even 20\n",
            "Even 4\n",
            "Even 88\n"
          ]
        }
      ]
    },
    {
      "cell_type": "code",
      "source": [
        "mylist=[1,2,3,'hey',10.2]\n",
        "\n",
        "for i in mylist:\n",
        "  if (type(i) is int):\n",
        "    i=i**2\n",
        "    print(i)\n",
        "  else:\n",
        "    print(i)\n",
        ""
      ],
      "metadata": {
        "colab": {
          "base_uri": "https://localhost:8080/"
        },
        "id": "kvZpDu9r8baF",
        "outputId": "94bb1ee1-284c-4cc3-98c4-c331401af2fd"
      },
      "execution_count": 52,
      "outputs": [
        {
          "output_type": "stream",
          "name": "stdout",
          "text": [
            "1\n",
            "4\n",
            "9\n",
            "hey\n",
            "10.2\n"
          ]
        }
      ]
    },
    {
      "cell_type": "code",
      "source": [
        "mylist=[1,2,3,'hey',10.2]\n",
        "mylist2=[]\n",
        "for i in mylist:\n",
        "  if (type(i)==int):\n",
        "    i=i**2\n",
        "    print(i)\n"
      ],
      "metadata": {
        "colab": {
          "base_uri": "https://localhost:8080/"
        },
        "id": "NLBZgXGJ-Bvu",
        "outputId": "055bf293-44e1-4d74-9b51-a3846a89a680"
      },
      "execution_count": 54,
      "outputs": [
        {
          "output_type": "stream",
          "name": "stdout",
          "text": [
            "1\n",
            "4\n",
            "9\n"
          ]
        }
      ]
    },
    {
      "cell_type": "code",
      "source": [
        "mylist=[1,2,3,'hey',10.2]\n",
        "mylist2=[]\n",
        "for i in mylist:\n",
        "  if (type(i)==int):\n",
        "    mylist2.append(i**2)\n",
        "print(mylist2)"
      ],
      "metadata": {
        "colab": {
          "base_uri": "https://localhost:8080/"
        },
        "id": "AlGLzeh4-6WM",
        "outputId": "324e111b-93ca-4596-fef2-4861a16d035e"
      },
      "execution_count": 55,
      "outputs": [
        {
          "output_type": "stream",
          "name": "stdout",
          "text": [
            "[1, 4, 9]\n"
          ]
        }
      ]
    },
    {
      "cell_type": "code",
      "source": [
        "x=11\n",
        "mylist=[10,12,223,101]\n",
        "\n",
        "if (x in mylist):\n",
        "    print(\"True\")\n",
        "else:\n",
        "    print(\"False\")"
      ],
      "metadata": {
        "colab": {
          "base_uri": "https://localhost:8080/"
        },
        "id": "6ZBU8zF4AQix",
        "outputId": "8e0dbdf1-3279-4779-fda0-84414f697f71"
      },
      "execution_count": 66,
      "outputs": [
        {
          "output_type": "stream",
          "name": "stdout",
          "text": [
            "False\n"
          ]
        }
      ]
    },
    {
      "cell_type": "code",
      "source": [
        "mylist=[10,12,223,11,11]\n",
        "x=0\n",
        "for i in range(0,len(mylist)):\n",
        "  for j in range(i+1,len(mylist)):\n",
        "    if mylist[i]==mylist[j]:\n",
        "      x+=1\n",
        "\n",
        "if(x==1):\n",
        "  print(\"Ture\")\n",
        "else:\n",
        "  print(\"False\")\n",
        "\n",
        "\n",
        "\n",
        "\n"
      ],
      "metadata": {
        "colab": {
          "base_uri": "https://localhost:8080/"
        },
        "id": "6wH6NWVoBDl-",
        "outputId": "98f64b4f-5494-4962-b044-120472d9148d"
      },
      "execution_count": 77,
      "outputs": [
        {
          "output_type": "stream",
          "name": "stdout",
          "text": [
            "Ture\n"
          ]
        }
      ]
    },
    {
      "cell_type": "code",
      "source": [
        "mylist=[10,12,223,11,11]\n",
        "x=0\n",
        "for i in range(0,len(mylist)):\n",
        "  for j in range(i+1,len(mylist)):\n",
        "    if (mylist[i]==mylist[j]):\n",
        "        x+=1\n",
        "        break\n",
        "\n",
        "if(x==1):\n",
        "  print(\"Ture\")\n",
        "else:\n",
        "  print(\"False\")"
      ],
      "metadata": {
        "colab": {
          "base_uri": "https://localhost:8080/"
        },
        "id": "anUpNSjcDHbw",
        "outputId": "ad48c4ea-293d-443e-d5b5-859a503a6c34"
      },
      "execution_count": 79,
      "outputs": [
        {
          "output_type": "stream",
          "name": "stdout",
          "text": [
            "Ture\n"
          ]
        }
      ]
    },
    {
      "cell_type": "code",
      "source": [
        "mylist=[10,12,223,11,11]\n",
        "x=0\n",
        "for i in range(0,len(mylist)):\n",
        "  for j in range(i+1,len(mylist)):\n",
        "    if (mylist[i]==mylist[j]):\n",
        "        x+=1\n",
        "        break\n",
        "\n",
        "if(x==1):\n",
        "  print(\"Ture\")\n",
        "else:\n",
        "  print(\"False\")"
      ],
      "metadata": {
        "colab": {
          "base_uri": "https://localhost:8080/"
        },
        "id": "BvNQewmJFtoR",
        "outputId": "2b916770-0c6b-4853-f16d-9ae1efaaa813"
      },
      "execution_count": 81,
      "outputs": [
        {
          "output_type": "stream",
          "name": "stdout",
          "text": [
            "Ture\n"
          ]
        }
      ]
    },
    {
      "cell_type": "code",
      "source": [
        "\n",
        "mylist=[10,12,10,101,11,11,10]\n",
        "duplicate=[]\n",
        "x=0\n",
        "for i in range(0,len(mylist)):\n",
        "  for j in range(i+1,len(mylist)):\n",
        "    if (mylist[i]==mylist[j]):\n",
        "      if mylist[i] not in duplicate:\n",
        "        duplicate.append(mylist[i])\n",
        "\n",
        "print(duplicate)\n",
        ""
      ],
      "metadata": {
        "colab": {
          "base_uri": "https://localhost:8080/"
        },
        "id": "mP136YnTGNKd",
        "outputId": "ae082500-4953-4526-c68a-f56df51a2203"
      },
      "execution_count": 87,
      "outputs": [
        {
          "output_type": "stream",
          "name": "stdout",
          "text": [
            "[10, 11]\n"
          ]
        }
      ]
    },
    {
      "cell_type": "code",
      "source": [
        "# a=10\n",
        "# b=20\n",
        "# temp=0\n",
        "\n",
        "mylist=[10,9,8,16,2,7]\n",
        "max = list\n"
      ],
      "metadata": {
        "id": "ICmCAip6Gi2f"
      },
      "execution_count": null,
      "outputs": []
    }
  ]
}